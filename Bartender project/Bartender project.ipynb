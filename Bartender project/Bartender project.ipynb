{
 "cells": [
  {
   "cell_type": "code",
   "execution_count": 1,
   "id": "9d120e45",
   "metadata": {},
   "outputs": [],
   "source": [
    "questions = { \n",
    "    \"strong\": \"Do ye like yer drinks strong?\",\n",
    "    \"salty\": \"Do ye like it with a salty tang?\", \n",
    "    \"bitter\": \"Are ye a lubber who likes it bitter?\", \n",
    "    \"sweet\": \"Would ye like a bit of sweetness with yer poison?\", \n",
    "    \"fruity\": \"Are ye one for a fruity finish?\", \n",
    "}\n",
    "\n",
    "ingredients = { \n",
    "    \"strong\": [\"glug of rum\", \"slug of whisky\", \"splash of gin\"], \n",
    "    \"salty\": [\"olive on a stick\", \"salt-dusted rim\", \"rasher of bacon\"], \n",
    "    \"bitter\": [\"shake of bitters\", \"splash of tonic\", \"twist of lemon peel\"], \n",
    "    \"sweet\": [\"sugar cube\", \"spoonful of honey\", \"spash of cola\"], \n",
    "    \"fruity\": [\"slice of orange\", \"dash of cassis\", \"cherry on top\"], \n",
    "}"
   ]
  },
  {
   "cell_type": "code",
   "execution_count": 2,
   "id": "325ac60f",
   "metadata": {},
   "outputs": [],
   "source": [
    "import random"
   ]
  },
  {
   "cell_type": "code",
   "execution_count": null,
   "id": "58f45358",
   "metadata": {},
   "outputs": [
    {
     "name": "stdout",
     "output_type": "stream",
     "text": [
      "strong\n",
      "Do ye like yer drinks strong?\n",
      "slug of whisky\n",
      "salty\n",
      "Do ye like it with a salty tang?\n",
      "olive on a stick\n",
      "bitter\n",
      "Are ye a lubber who likes it bitter?\n",
      "twist of lemon peel\n"
     ]
    }
   ],
   "source": [
    "while(True):    \n",
    "    s = input()\n",
    "    print(questions[s])\n",
    "    print(ingredients[s][random.randint(0,2)])"
   ]
  },
  {
   "cell_type": "code",
   "execution_count": null,
   "id": "495859cd",
   "metadata": {},
   "outputs": [],
   "source": []
  },
  {
   "cell_type": "code",
   "execution_count": null,
   "id": "dcd61394",
   "metadata": {},
   "outputs": [],
   "source": []
  }
 ],
 "metadata": {
  "kernelspec": {
   "display_name": "Python 3",
   "language": "python",
   "name": "python3"
  },
  "language_info": {
   "codemirror_mode": {
    "name": "ipython",
    "version": 3
   },
   "file_extension": ".py",
   "mimetype": "text/x-python",
   "name": "python",
   "nbconvert_exporter": "python",
   "pygments_lexer": "ipython3",
   "version": "3.7.10"
  }
 },
 "nbformat": 4,
 "nbformat_minor": 5
}
